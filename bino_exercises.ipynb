{
 "cells": [
  {
   "cell_type": "markdown",
   "metadata": {},
   "source": [
    "# Exercises for pricing derivatives on a Binomial Tree FINA60211(A)\n",
    "\n",
    "Pour la version française de ce fichier, [cliquez ici](bino_exercises_fr.ipynb).\n",
    "\n",
    "This interactive notebook and the associated `pedagogical_binomial_model` python module provide you with tools to generate your own exercises in pricing options on a binomial tree. You can use this notebook to:\n",
    "\n",
    "- learn to construct forward binomial trees\n",
    "- learn to calculate probabilities of states on a binomial tree\n",
    "- learn to price options by recursive single-period risk-neutral pricing and discounting\n",
    "- learn to price European options by calculating risk-neutral expectations of the terminal value\n",
    "\n",
    "The module `pedagogical_binomial_model` follows the conventions and notation of our course slides."
   ]
  },
  {
   "cell_type": "markdown",
   "metadata": {},
   "source": [
    "## Working with the module\n",
    "\n",
    "In order to learn how to use the module, you can simply read the documentation in the `pedagogical_binomial_model.py` file or try the following `help` call:"
   ]
  },
  {
   "cell_type": "code",
   "execution_count": 17,
   "metadata": {},
   "outputs": [
    {
     "name": "stdout",
     "output_type": "stream",
     "text": [
      "Help on class binomial_tree in module pedagogical_binomial_model:\n",
      "\n",
      "class binomial_tree(builtins.object)\n",
      " |  binomial_tree(Stock_0, N_steps, h_time_step_length, r_int_rate, d_div_rate, s_volatility)\n",
      " |  \n",
      " |  Forward Binomial Tree for pricing Equity Derivatives.\n",
      " |  \n",
      " |  All math and notation follows the course slides for FINA60211(A) Princpes d'evaluation des produits derives\n",
      " |  \n",
      " |  Attributes\n",
      " |  ----------\n",
      " |  Stock_0 : float\n",
      " |      initial stock price\n",
      " |  N_steps : int\n",
      " |      number of steps on the tree model\n",
      " |  h_time_step_length : float\n",
      " |      length of a single time step (in years) on the tree: the tree describes stock price behavior over the period of length N_steps * h_time_step_length\n",
      " |  r_int_rate : float\n",
      " |      risk-free interest rate (NOT in percentage pts, i.e., for a rate of 4.2% input 0.042)\n",
      " |  d_div_rate : float\n",
      " |      dividend yield, (NOT in percentage pts, i.e., for a yield of 4.2% input 0.042)\n",
      " |  s_volatility : float\n",
      " |      annualized volatility of the stock return used, alongside other inputs, to calculate the \"up\" and \"down\" movement factors\n",
      " |  u_fctr : float\n",
      " |      \"up\" movement factor calculated from inputs\n",
      " |  d_fctr : float\n",
      " |      \"down\" movement factor calculated from inputs\n",
      " |  rn_pstar : float\n",
      " |      risk-neutral probability of a single \"up\" move\n",
      " |  tree : tree_trunk\n",
      " |      object of class tree_trunk containing the binomial tree\n",
      " |  discount_factors : numpy.array\n",
      " |      vector of discount factors from given period to last period\n",
      " |  single_period_discount_factor : float\n",
      " |      exp(- r_int_rate * h_time_step_length)\n",
      " |  \n",
      " |  \n",
      " |  Methods\n",
      " |  -------\n",
      " |  print(step_indexes)\n",
      " |      Prints the tree at selected time steps\n",
      " |  copy()\n",
      " |      Provides a deep copy of the tree\n",
      " |  pricing(derivative_product)\n",
      " |      Prices a derivative_product (instance of class derivative) and returns it\n",
      " |  \n",
      " |  Methods defined here:\n",
      " |  \n",
      " |  __init__(self, Stock_0, N_steps, h_time_step_length, r_int_rate, d_div_rate, s_volatility)\n",
      " |      Provide parameters to construct the binomial tree.\n",
      " |      See course slides (Theme 2) for details\n",
      " |      \n",
      " |      Stock_0 : float\n",
      " |          initial stock price\n",
      " |      N_steps : int\n",
      " |          number of steps on the tree model\n",
      " |      h_time_step_length : float\n",
      " |          length of a single time step (in years) on the tree: the tree describes stock price behavior over the period of length N_steps * h_time_step_length\n",
      " |      r_int_rate : float\n",
      " |          risk-free interest rate (NOT in percentage pts, i.e., for a rate of 4.2% input 0.042)\n",
      " |      d_div_rate : float\n",
      " |          dividend yield, (NOT in percentage pts, i.e., for a yield of 4.2% input 0.042)\n",
      " |      s_volatility : float\n",
      " |          annualized volatility of the stock return used, alongside other inputs, to calculate the \"up\" and \"down\" movement factors\n",
      " |  \n",
      " |  copy(self)\n",
      " |  \n",
      " |  pricing(self, derivative_product)\n",
      " |      Price a derivative and return it\n",
      " |      \n",
      " |      The returned derivative contains a copy of the stock's binomial tree with information about the derivative's valuation added to the tree.\n",
      " |      \n",
      " |      Parameters\n",
      " |      ----------\n",
      " |      derivative_product : derivative\n",
      " |      :rtype: derivative\n",
      " |      :return: priced derivative product\n",
      " |  \n",
      " |  print(self, step_indexes=None)\n",
      " |  \n",
      " |  ----------------------------------------------------------------------\n",
      " |  Data descriptors defined here:\n",
      " |  \n",
      " |  __dict__\n",
      " |      dictionary for instance variables (if defined)\n",
      " |  \n",
      " |  __weakref__\n",
      " |      list of weak references to the object (if defined)\n",
      "\n"
     ]
    }
   ],
   "source": [
    "import pedagogical_binomial_model as pbm\n",
    "help(pbm.binomial_tree)"
   ]
  },
  {
   "cell_type": "markdown",
   "metadata": {},
   "source": [
    "## Examples\n",
    "\n",
    "### Create a binomial tree for the stock price\n",
    "\n",
    "Create a tree to describe the evolution of the stock price:\n",
    "\n",
    "- for three months\n",
    "- in one-month steps\n",
    "\n",
    "Use the following parameters for the tree:\n",
    "\n",
    "- $S_0$ = 100\n",
    "- $r_f$ = 2%\n",
    "- $\\delta$ = 1%\n",
    "- $\\sigma$ = 20%"
   ]
  },
  {
   "cell_type": "code",
   "execution_count": 18,
   "metadata": {},
   "outputs": [],
   "source": [
    "stock_price = 100\n",
    "number_of_model_steps = 3 # three months\n",
    "length_of_model_step = 1/12 # a month is 1/12 years\n",
    "risk_free_rate = 0.02\n",
    "dividend_yield = 0.01\n",
    "stock_volatility = 0.2 # annualized\n",
    "\n",
    "stock_price_tree = pbm.binomial_tree(stock_price, number_of_model_steps, length_of_model_step, risk_free_rate, dividend_yield, stock_volatility)"
   ]
  },
  {
   "cell_type": "markdown",
   "metadata": {},
   "source": [
    "To inspect the tree you can use the associated `print` method. The periods of the tree are indexed from $0$ to `number_of_model_steps`. Let's have a look at the output at time $1$.\n",
    "\n",
    "Note that the periods to be printed have to be given as a `list`: for example, `[0, 1, 2]`.\n",
    "\n",
    "In the output below you'll see that\n",
    "\n",
    "- Periods are numbered and separated by headers\n",
    "- For each period, all possible stock price states are printed\n",
    "- All states are named following the convention that says how many `U` and `D` moves are required to reach a given state, for example `U1-D0` for the \"up\" state at period $1$ and `U0-D1` for the \"down\" state at period 1.\n",
    "\n",
    "There is extra information in the output:\n",
    "\n",
    "- The **\"Up\" Transition Probability**: $p^{\\star}$ from our slides\n",
    "- The **Probability of State** : the probability of achieving a given state via all possible trajectories\n",
    "- The **Multi-Period Discount Factor**: the discount factor **from** the period in the header **to** the terminal period; $e^{-r_f (K-k) h}$ where the terminal period is $K$ and the current period is $k$.\n",
    "- The **Single-Period Discount Factor**: $e^{-r_f h}$\n",
    "- The \"Up\" and \"Down\" factors are $u$ and $d$."
   ]
  },
  {
   "cell_type": "code",
   "execution_count": 19,
   "metadata": {},
   "outputs": [
    {
     "name": "stdout",
     "output_type": "stream",
     "text": [
      "--------------------------------------------------------------------\n",
      "In Tree At Period 1:\n",
      "--------------------------------------------------------------------\n",
      "In State U1-D0\n",
      "Stock price = 106.031747\n",
      "Probability of State = 0.485570\n",
      "\"Up\" transition probability (p-star) = 0.485570\n",
      "Multi-Period Discount Factor = 0.996672\n",
      "Single-Period Discount Factor = 0.998335\n",
      "\"Up\" factor = 1.060317\n",
      "\"Down\" factor = 0.944687\n",
      "\n",
      "\n",
      "In State U0-D1\n",
      "Stock price = 94.468693\n",
      "Probability of State = 0.514430\n",
      "\"Up\" transition probability (p-star) = 0.485570\n",
      "Multi-Period Discount Factor = 0.996672\n",
      "Single-Period Discount Factor = 0.998335\n",
      "\"Up\" factor = 1.060317\n",
      "\"Down\" factor = 0.944687\n",
      "\n",
      "\n"
     ]
    }
   ],
   "source": [
    "stock_price_tree.print([1])"
   ]
  },
  {
   "cell_type": "markdown",
   "metadata": {},
   "source": [
    "### Exercise:\n",
    "\n",
    "Go back to your slides and use the stock price parameters from the preceding section to build a forward binomial tree by hand. Then use this module to check your results."
   ]
  },
  {
   "cell_type": "markdown",
   "metadata": {},
   "source": [
    "### Price a European put option\n",
    "\n",
    "You can use the model to price a European put option. The idea is to first construct the tree that describes the evolution of the stock price and then price the option *on that tree*.\n",
    "\n",
    "This means that one of the option's key parameters, **time to maturity**, depends on the tree!\n",
    "\n",
    "Let's price an option with the following parameters:\n",
    "\n",
    "- Expiration in six months\n",
    "- Strike price of \\$95\n",
    "\n",
    "#### Define the stock price tree\n",
    "\n",
    "Our existing binomial tree, `stock_price_tree` describes the evolution of the price over three months. Therefore, we **cannot** use it to price the option, and we have to create a new tree.\n",
    "\n",
    "We will stick to a three-period tree. This means that we need two-month periods, i.e., $h = 2/12$ on the tree."
   ]
  },
  {
   "cell_type": "code",
   "execution_count": 20,
   "metadata": {},
   "outputs": [],
   "source": [
    "stock_price = 100\n",
    "number_of_model_steps = 3 # three steps\n",
    "length_of_model_step = 2/12 # a month is 1/12 years\n",
    "risk_free_rate = 0.02\n",
    "dividend_yield = 0.01\n",
    "stock_volatility = 0.2 # annualized\n",
    "\n",
    "stock_price_tree = pbm.binomial_tree(stock_price, number_of_model_steps, length_of_model_step, risk_free_rate, dividend_yield, stock_volatility)"
   ]
  },
  {
   "cell_type": "markdown",
   "metadata": {},
   "source": [
    "#### Define the option\n",
    "\n",
    "To define a European put option, we will use the `european_put` class from the `pbm` module. Here's the call to `help(pbm.european_put)`.\n",
    "\n",
    "An `european_put` is a `derivative`, so if you're interested, you might want to follow up by reading `help(pbm.derivative)` and the code."
   ]
  },
  {
   "cell_type": "code",
   "execution_count": 21,
   "metadata": {},
   "outputs": [
    {
     "name": "stdout",
     "output_type": "stream",
     "text": [
      "Help on class european_put in module pedagogical_binomial_model:\n",
      "\n",
      "class european_put(derivative)\n",
      " |  european_put(strike_price)\n",
      " |  \n",
      " |  European put\n",
      " |  \n",
      " |  Method resolution order:\n",
      " |      european_put\n",
      " |      derivative\n",
      " |      builtins.object\n",
      " |  \n",
      " |  Methods defined here:\n",
      " |  \n",
      " |  __init__(self, strike_price)\n",
      " |      Define an European Put\n",
      " |      \n",
      " |      Parameters\n",
      " |      ----------\n",
      " |      strike_price : float\n",
      " |          strike price of the option\n",
      " |  \n",
      " |  ----------------------------------------------------------------------\n",
      " |  Methods inherited from derivative:\n",
      " |  \n",
      " |  print(self, step_indexes=None)\n",
      " |  \n",
      " |  set_tree(self, binomial_tree)\n",
      " |  \n",
      " |  ----------------------------------------------------------------------\n",
      " |  Data descriptors inherited from derivative:\n",
      " |  \n",
      " |  __dict__\n",
      " |      dictionary for instance variables (if defined)\n",
      " |  \n",
      " |  __weakref__\n",
      " |      list of weak references to the object (if defined)\n",
      "\n"
     ]
    }
   ],
   "source": [
    "help(pbm.european_put)"
   ]
  },
  {
   "cell_type": "markdown",
   "metadata": {},
   "source": [
    "The above help listing tells us how to define an `european_put`:\n",
    "```\n",
    "|  european_put(strike_price)\n",
    "...\n",
    "|  Methods defined here:\n",
    "|  \n",
    "|  __init__(self, strike_price)\n",
    "|      Define an European Put\n",
    "|      \n",
    "|      Parameters\n",
    "|      ----------\n",
    "|      strike_price : float\n",
    "|          strike price of the option\n",
    "```\n",
    "\n",
    "Simply, set a `strike_price` and write `my_option = pbm.european_put(strike_price)`."
   ]
  },
  {
   "cell_type": "code",
   "execution_count": 22,
   "metadata": {},
   "outputs": [],
   "source": [
    "strike_price = 95\n",
    "my_euro_put = pbm.european_put(strike_price)"
   ]
  },
  {
   "cell_type": "markdown",
   "metadata": {},
   "source": [
    "#### Price the option\n",
    "\n",
    "Having defined the stock price tree and the option, we can price the option.\n",
    "\n",
    "We do it by using the `pricing()` method of the `stock_price_tree` on the option."
   ]
  },
  {
   "cell_type": "code",
   "execution_count": 23,
   "metadata": {},
   "outputs": [],
   "source": [
    "my_euro_put = stock_price_tree.pricing(my_euro_put)"
   ]
  },
  {
   "cell_type": "markdown",
   "metadata": {},
   "source": [
    "Seemingly, nothing happened.\n",
    "\n",
    "However, `my_euro_put` now contains a full binomial tree with all incremental pricing information!\n",
    "\n",
    "The `derivative` class and all related classes (i.e., European and American calls and puts in `pbm`) have a `print` method which is identical to the `print` method for the binomial tree that we examined above.\n",
    "\n",
    "To learn about the put's value at time $0$, you can simply type `my_euro_put.print([0])` and see in the field `\"Derivative\"` that the option is worth $3.1966."
   ]
  },
  {
   "cell_type": "code",
   "execution_count": 24,
   "metadata": {},
   "outputs": [
    {
     "name": "stdout",
     "output_type": "stream",
     "text": [
      "--------------------------------------------------------------------\n",
      "In Tree At Period 0:\n",
      "--------------------------------------------------------------------\n",
      "In State 0\n",
      "Stock price = 100.000000\n",
      "Probability of State = 1.000000\n",
      "\"Up\" transition probability (p-star) = 0.479599\n",
      "Multi-Period Discount Factor = 0.990050\n",
      "Single-Period Discount Factor = 0.996672\n",
      "\"Up\" factor = 1.086886\n",
      "\"Down\" factor = 0.923132\n",
      "Derivative = 3.196583\n",
      "Repl. Delta = -0.300772\n",
      "Repl. Bond = 33.273770\n",
      "\n",
      "\n"
     ]
    }
   ],
   "source": [
    "my_euro_put.print([0])"
   ]
  },
  {
   "cell_type": "markdown",
   "metadata": {},
   "source": [
    "#### Exercise: Price the option using the expected terminal payoff\n",
    "\n",
    "For European derivatives we can use the alternative approach to pricing. With $K$ periods of length $h$ years, the price of a derivative $G(S_K)$ is:\n",
    "$$\n",
    "    P = e^{-r_f \\times h \\times K}E^{\\star}\\left[ G(S_K) \\right]\\, ,\n",
    "$$\n",
    "the risk-neutral expectation of the payoff, discounted at the risk-free rate.\n",
    "\n",
    "To see the probabilities of the terminal states together with the stock prices in these states, type `my_euro_put.print([3])`."
   ]
  },
  {
   "cell_type": "code",
   "execution_count": 25,
   "metadata": {},
   "outputs": [
    {
     "name": "stdout",
     "output_type": "stream",
     "text": [
      "--------------------------------------------------------------------\n",
      "In Tree At Period 3:\n",
      "--------------------------------------------------------------------\n",
      "In State U3-D0\n",
      "Stock price = 128.395990\n",
      "Probability of State = 0.110315\n",
      "\"Up\" transition probability (p-star) = 0.479599\n",
      "Multi-Period Discount Factor = 1.000000\n",
      "Single-Period Discount Factor = 0.996672\n",
      "\"Up\" factor = 1.086886\n",
      "\"Down\" factor = 0.923132\n",
      "Derivative = 0.000000\n",
      "\n",
      "\n",
      "In State U2-D1\n",
      "Stock price = 109.051456\n",
      "Probability of State = 0.359100\n",
      "\"Up\" transition probability (p-star) = 0.479599\n",
      "Multi-Period Discount Factor = 1.000000\n",
      "Single-Period Discount Factor = 0.996672\n",
      "\"Up\" factor = 1.086886\n",
      "\"Down\" factor = 0.923132\n",
      "Derivative = 0.000000\n",
      "\n",
      "\n",
      "In State U1-D2\n",
      "Stock price = 92.621429\n",
      "Probability of State = 0.389651\n",
      "\"Up\" transition probability (p-star) = 0.479599\n",
      "Multi-Period Discount Factor = 1.000000\n",
      "Single-Period Discount Factor = 0.996672\n",
      "\"Up\" factor = 1.086886\n",
      "\"Down\" factor = 0.923132\n",
      "Derivative = 2.378571\n",
      "\n",
      "\n",
      "In State U0-D3\n",
      "Stock price = 78.666800\n",
      "Probability of State = 0.140934\n",
      "\"Up\" transition probability (p-star) = 0.479599\n",
      "Multi-Period Discount Factor = 1.000000\n",
      "Single-Period Discount Factor = 0.996672\n",
      "\"Up\" factor = 1.086886\n",
      "\"Down\" factor = 0.923132\n",
      "Derivative = 16.333200\n",
      "\n",
      "\n"
     ]
    }
   ],
   "source": [
    "my_euro_put.print([3])"
   ]
  },
  {
   "cell_type": "markdown",
   "metadata": {},
   "source": [
    "In the `\"Derivative\"` field you can see the values of the payoff $G(S_K)$ which here is $\\max(95 - S_K, 0)$. Then use the `Probability of State` and appropriate `Multi-Period Discount Factor` from period  $0$ to period $K$ to calculate the price of the European Put with pen and paper."
   ]
  },
  {
   "cell_type": "markdown",
   "metadata": {},
   "source": [
    "#### Extracurricular (for the nerds)\n",
    "\n",
    "You can recover all the information that is printed on the tree to use it as data in a computer program. The following code snippets extract the risk-neutral probabilities of the states at the final node of the tree, and the corresponding payoffs.\n",
    "\n",
    "In the end, the `.trunk` attribute of the option's `pricing_tree` is a `dictionary`."
   ]
  },
  {
   "cell_type": "code",
   "execution_count": 26,
   "metadata": {},
   "outputs": [
    {
     "data": {
      "text/plain": [
       "dict"
      ]
     },
     "execution_count": 26,
     "metadata": {},
     "output_type": "execute_result"
    }
   ],
   "source": [
    "type(my_euro_put.pricing_tree.trunk)"
   ]
  },
  {
   "cell_type": "code",
   "execution_count": 27,
   "metadata": {},
   "outputs": [
    {
     "name": "stdout",
     "output_type": "stream",
     "text": [
      "These are the risk-neutral probabilities converted to a numpy array\n",
      "[0.110315   0.35910036 0.38965103 0.14093361]\n"
     ]
    }
   ],
   "source": [
    "import numpy as np\n",
    "rn_probs = [my_euro_put.pricing_tree.trunk[\"Period 3\"][state][\"Probability of State\"] for state in my_euro_put.pricing_tree.trunk[\"Period 3\"].keys()]\n",
    "rn_probs = np.array(rn_probs)\n",
    "\n",
    "print(\"These are the risk-neutral probabilities converted to a numpy array\")\n",
    "print(rn_probs)"
   ]
  },
  {
   "cell_type": "code",
   "execution_count": 28,
   "metadata": {},
   "outputs": [
    {
     "name": "stdout",
     "output_type": "stream",
     "text": [
      "These are the put's payoffs\n",
      "[ 0.          0.          2.37857115 16.33319997]\n"
     ]
    }
   ],
   "source": [
    "payoffs = [my_euro_put.pricing_tree.trunk[\"Period 3\"][state][\"Derivative\"] for state in my_euro_put.pricing_tree.trunk[\"Period 3\"].keys()]\n",
    "payoffs = np.array(payoffs)\n",
    "\n",
    "print(\"These are the put's payoffs\")\n",
    "print(payoffs)"
   ]
  },
  {
   "cell_type": "markdown",
   "metadata": {},
   "source": [
    "Now you can calculate the risk-neutral expectation and discount it to period $0$:"
   ]
  },
  {
   "cell_type": "code",
   "execution_count": 29,
   "metadata": {},
   "outputs": [
    {
     "name": "stdout",
     "output_type": "stream",
     "text": [
      "The price of the put option is $3.1966.\n"
     ]
    }
   ],
   "source": [
    "put_price = np.sum(rn_probs * payoffs)\n",
    "put_price = my_euro_put.pricing_tree.trunk[\"Period 0\"][\"State 0\"][\"Multi-Period Discount Factor\"] * put_price\n",
    "\n",
    "print(\"The price of the put option is ${0:1.4f}.\".format(put_price))"
   ]
  },
  {
   "cell_type": "markdown",
   "metadata": {},
   "source": [
    "### Price an American put option and compare with the European option\n",
    "\n",
    "The American option is more *optional* than the European option, because it can be exercised any time before expiration. If it's more optional... then its value should be **higher** than the European option's.\n",
    "\n",
    "The difference between the prices of otherwise identical American and European options is called the **early exercise premium**.\n",
    "\n",
    "We can use our binomial model to price the American option estimate the premium.\n",
    "\n",
    "An american put option can be instantiated from the class `american_put`. We will use the same tree and strike price as before."
   ]
  },
  {
   "cell_type": "code",
   "execution_count": 30,
   "metadata": {},
   "outputs": [],
   "source": [
    "my_amer_put = pbm.american_put(95)\n",
    "my_amer_put = stock_price_tree.pricing(my_amer_put)"
   ]
  },
  {
   "cell_type": "code",
   "execution_count": 31,
   "metadata": {},
   "outputs": [
    {
     "name": "stdout",
     "output_type": "stream",
     "text": [
      "--------------------------------------------------------------------\n",
      "In Tree At Period 0:\n",
      "--------------------------------------------------------------------\n",
      "In State 0\n",
      "Stock price = 100.000000\n",
      "Probability of State = 1.000000\n",
      "\"Up\" transition probability (p-star) = 0.479599\n",
      "Multi-Period Discount Factor = 0.990050\n",
      "Single-Period Discount Factor = 0.996672\n",
      "\"Up\" factor = 1.086886\n",
      "\"Down\" factor = 0.923132\n",
      "Derivative = 3.243454\n",
      "Exercise Derivative = False\n",
      "\n",
      "\n"
     ]
    }
   ],
   "source": [
    "my_amer_put.print([0])"
   ]
  },
  {
   "cell_type": "code",
   "execution_count": 32,
   "metadata": {},
   "outputs": [
    {
     "name": "stdout",
     "output_type": "stream",
     "text": [
      "--------------------------------------------------------------------\n",
      "In Tree At Period 0:\n",
      "--------------------------------------------------------------------\n",
      "In State 0\n",
      "Stock price = 100.000000\n",
      "Probability of State = 1.000000\n",
      "\"Up\" transition probability (p-star) = 0.479599\n",
      "Multi-Period Discount Factor = 0.990050\n",
      "Single-Period Discount Factor = 0.996672\n",
      "\"Up\" factor = 1.086886\n",
      "\"Down\" factor = 0.923132\n",
      "Derivative = 3.196583\n",
      "Repl. Delta = -0.300772\n",
      "Repl. Bond = 33.273770\n",
      "\n",
      "\n"
     ]
    }
   ],
   "source": [
    "my_euro_put.print([0])"
   ]
  },
  {
   "cell_type": "markdown",
   "metadata": {},
   "source": [
    "The price of the American put is \\$3.2435 and the price of the European put is \\$3.1966.\n",
    "\n",
    "The **early exercise premium** is equal to \\$0.0469!"
   ]
  },
  {
   "cell_type": "markdown",
   "metadata": {},
   "source": [
    "## Further exercises\n",
    "\n",
    "Play around with this module. Use it to answer the following questions:\n",
    "\n",
    "### Exercise 1\n",
    "\n",
    "What is the early exercise premium for call options if $\\delta = 0 $?\n",
    "\n",
    "### Exercise 2\n",
    "\n",
    "What is the early exercise premium for put options if $r = 0$?\n",
    "\n",
    "### Exercise 3\n",
    "\n",
    "What happens with the price of an European option if the binomial model's time grid gets *denser*?\n",
    "\n",
    "Through this we mean that we could keep the model's horizon constant but describe it in a larger number of steps. Above, we used three steps for a six-month horizon. What if we used six (i.e., monthly steps)? What if we used 180 (i.e., daily steps)?\n",
    "\n",
    "First, define a tree where `length_of_model_step = 1/365` and the `number_of_model_steps = 180`.\n",
    "\n",
    "Then, write a function which evaluates the Black-Scholes option pricing formula and compare the prices from the formula to the prices from a binomial model with very many steps (say, 1 step per day).\n",
    "\n",
    "Price a European option (call or put) with both methods.\n",
    "\n",
    "### Exercise 4\n",
    "\n",
    "The prices of European put and call options **with the same strike and maturity** are strongly related to each other! This relation is called the **put-call parity**. It can be stated as follows:\n",
    "$$\n",
    "    C - P = S e^{-\\delta T} - K \\times e^{-r_f T}\\, ,\n",
    "$$\n",
    "where $C$ and $P$ are, respectively, the call and put option prices, $S$ is the stock price, $K$ is the strike of both options, $r_f$ is the risk-free rate, $\\delta$ is the dividend yield, and $T$ is the maturity of both options.\n",
    "\n",
    "Use the binomial model to:\n",
    "\n",
    "1. Demonstrate that the put-call parity relation indeed holds,\n",
    "2. Examine how the discrepancy from the relation depends on $\\delta$ for American options.\n"
   ]
  }
 ],
 "metadata": {
  "interpreter": {
   "hash": "597d501f6549eea9b0cba469669ba08aefc1f3979820862bbf8ce3c821374c73"
  },
  "kernelspec": {
   "display_name": "Python 3.8.5 ('base')",
   "language": "python",
   "name": "python3"
  },
  "language_info": {
   "codemirror_mode": {
    "name": "ipython",
    "version": 3
   },
   "file_extension": ".py",
   "mimetype": "text/x-python",
   "name": "python",
   "nbconvert_exporter": "python",
   "pygments_lexer": "ipython3",
   "version": "3.8.5"
  },
  "orig_nbformat": 4
 },
 "nbformat": 4,
 "nbformat_minor": 2
}
