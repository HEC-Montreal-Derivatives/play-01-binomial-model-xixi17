{
 "cells": [
  {
   "cell_type": "markdown",
   "metadata": {},
   "source": [
    "# Exercices pour l'évaluation des dérivés sur un arbre binomial FINA60211(A)\n",
    "\n",
    "For the English version of this file, [click here](bino_exercises.ipynb).\n",
    "\n",
    "Ce carnet de notes interactif et le module python associé `pedagogical_binomial_model` vous fournissent des outils pour générer vos propres exercices sur l'évaluation des options sur un arbre binomial. Vous pouvez utiliser ce carnet de notes pour :\n",
    "\n",
    "- apprendre à construire des arbres binomiaux *forward*\n",
    "- apprendre à calculer les probabilités d'états sur un arbre binomial\n",
    "- apprendre à tarifier des options par la méthode récursive d'espérance risque-neutre et d'actualisation sur une seule période.\n",
    "- apprendre à tarifier des options européennes en calculant l'espérance risque-neutre du valeur final.\n",
    "\n",
    "Le module `pedagogical_binomial_model` suit les conventions et la notation de nos diapositives de cours."
   ]
  },
  {
   "cell_type": "markdown",
   "metadata": {},
   "source": [
    "## Travailler avec le module\n",
    "\n",
    "Afin d'apprendre à utiliser le module, vous pouvez simplement lire la documentation dans le fichier `pedagogical_binomial_model.py` ou essayer le code `help` suivant :"
   ]
  },
  {
   "cell_type": "code",
   "execution_count": 17,
   "metadata": {},
   "outputs": [
    {
     "name": "stdout",
     "output_type": "stream",
     "text": [
      "Help on class binomial_tree in module pedagogical_binomial_model:\n",
      "\n",
      "class binomial_tree(builtins.object)\n",
      " |  binomial_tree(Stock_0, N_steps, h_time_step_length, r_int_rate, d_div_rate, s_volatility)\n",
      " |  \n",
      " |  Forward Binomial Tree for pricing Equity Derivatives.\n",
      " |  \n",
      " |  All math and notation follows the course slides for FINA60211(A) Princpes d'evaluation des produits derives\n",
      " |  \n",
      " |  Attributes\n",
      " |  ----------\n",
      " |  Stock_0 : float\n",
      " |      initial stock price\n",
      " |  N_steps : int\n",
      " |      number of steps on the tree model\n",
      " |  h_time_step_length : float\n",
      " |      length of a single time step (in years) on the tree: the tree describes stock price behavior over the period of length N_steps * h_time_step_length\n",
      " |  r_int_rate : float\n",
      " |      risk-free interest rate (NOT in percentage pts, i.e., for a rate of 4.2% input 0.042)\n",
      " |  d_div_rate : float\n",
      " |      dividend yield, (NOT in percentage pts, i.e., for a yield of 4.2% input 0.042)\n",
      " |  s_volatility : float\n",
      " |      annualized volatility of the stock return used, alongside other inputs, to calculate the \"up\" and \"down\" movement factors\n",
      " |  u_fctr : float\n",
      " |      \"up\" movement factor calculated from inputs\n",
      " |  d_fctr : float\n",
      " |      \"down\" movement factor calculated from inputs\n",
      " |  rn_pstar : float\n",
      " |      risk-neutral probability of a single \"up\" move\n",
      " |  tree : tree_trunk\n",
      " |      object of class tree_trunk containing the binomial tree\n",
      " |  discount_factors : numpy.array\n",
      " |      vector of discount factors from given period to last period\n",
      " |  single_period_discount_factor : float\n",
      " |      exp(- r_int_rate * h_time_step_length)\n",
      " |  \n",
      " |  \n",
      " |  Methods\n",
      " |  -------\n",
      " |  print(step_indexes)\n",
      " |      Prints the tree at selected time steps\n",
      " |  copy()\n",
      " |      Provides a deep copy of the tree\n",
      " |  pricing(derivative_product)\n",
      " |      Prices a derivative_product (instance of class derivative) and returns it\n",
      " |  \n",
      " |  Methods defined here:\n",
      " |  \n",
      " |  __init__(self, Stock_0, N_steps, h_time_step_length, r_int_rate, d_div_rate, s_volatility)\n",
      " |      Provide parameters to construct the binomial tree.\n",
      " |      See course slides (Theme 2) for details\n",
      " |      \n",
      " |      Stock_0 : float\n",
      " |          initial stock price\n",
      " |      N_steps : int\n",
      " |          number of steps on the tree model\n",
      " |      h_time_step_length : float\n",
      " |          length of a single time step (in years) on the tree: the tree describes stock price behavior over the period of length N_steps * h_time_step_length\n",
      " |      r_int_rate : float\n",
      " |          risk-free interest rate (NOT in percentage pts, i.e., for a rate of 4.2% input 0.042)\n",
      " |      d_div_rate : float\n",
      " |          dividend yield, (NOT in percentage pts, i.e., for a yield of 4.2% input 0.042)\n",
      " |      s_volatility : float\n",
      " |          annualized volatility of the stock return used, alongside other inputs, to calculate the \"up\" and \"down\" movement factors\n",
      " |  \n",
      " |  copy(self)\n",
      " |  \n",
      " |  pricing(self, derivative_product)\n",
      " |      Price a derivative and return it\n",
      " |      \n",
      " |      The returned derivative contains a copy of the stock's binomial tree with information about the derivative's valuation added to the tree.\n",
      " |      \n",
      " |      Parameters\n",
      " |      ----------\n",
      " |      derivative_product : derivative\n",
      " |      :rtype: derivative\n",
      " |      :return: priced derivative product\n",
      " |  \n",
      " |  print(self, step_indexes=None)\n",
      " |  \n",
      " |  ----------------------------------------------------------------------\n",
      " |  Data descriptors defined here:\n",
      " |  \n",
      " |  __dict__\n",
      " |      dictionary for instance variables (if defined)\n",
      " |  \n",
      " |  __weakref__\n",
      " |      list of weak references to the object (if defined)\n",
      "\n"
     ]
    }
   ],
   "source": [
    "import pedagogical_binomial_model as pbm\n",
    "help(pbm.binomial_tree)"
   ]
  },
  {
   "cell_type": "markdown",
   "metadata": {},
   "source": [
    "## Exemples\n",
    "\n",
    "### Créer un arbre binomial pour le prix de l'action\n",
    "\n",
    "Créez un arbre pour décrire l'évolution du prix de l'action :\n",
    "\n",
    "- pendant trois mois\n",
    "- par étapes d'un mois\n",
    "\n",
    "Utilisez les paramètres suivants pour l'arbre :\n",
    "\n",
    "- $S_0$ = 100\n",
    "- $r_f$ = 2%\n",
    "- $\\delta$ = 1%\n",
    "- $\\sigma$ = 20%"
   ]
  },
  {
   "cell_type": "code",
   "execution_count": 18,
   "metadata": {},
   "outputs": [],
   "source": [
    "stock_price = 100\n",
    "number_of_model_steps = 3 # three months\n",
    "length_of_model_step = 1/12 # a month is 1/12 years\n",
    "risk_free_rate = 0.02\n",
    "dividend_yield = 0.01\n",
    "stock_volatility = 0.2 # annualized\n",
    "\n",
    "stock_price_tree = pbm.binomial_tree(stock_price, number_of_model_steps, length_of_model_step, risk_free_rate, dividend_yield, stock_volatility)"
   ]
  },
  {
   "cell_type": "markdown",
   "metadata": {},
   "source": [
    "Pour inspecter l'arbre, vous pouvez utiliser la méthode associée `print`. Les périodes de l'arbre sont indexées de $0$ à `number_of_model_steps`. Jetons un coup d'oeil au résultat au temps $1$.\n",
    "\n",
    "Notez que les périodes à imprimer doivent être données sous forme de `list` : par exemple, `[0, 1, 2]`.\n",
    "\n",
    "Dans le résultat ci-dessous, vous verrez que\n",
    "\n",
    "- Les périodes sont numérotées et séparées par des en-têtes\n",
    "- Pour chaque période, tous les états possibles du prix des actions sont imprimés.\n",
    "- Tous les états sont nommés en suivant la convention qui dit combien de mouvements `U` et `D` sont nécessaires pour atteindre un état donné, par exemple `U1-D0` pour l'état \"up\" à la période $1$ et `U0-D1` pour l'état \"down\" à la période 1.\n",
    "\n",
    "Il y a des informations supplémentaires dans le résultat :\n",
    "\n",
    "- **\"Up\" Transition Probability**: $p^{\\star}$ dans nos diapos\n",
    "- **Probability of State** : la probabilité d'atteindre un état donné via toutes les trajectoires possibles\n",
    "- **Multi-Period Discount Factor**: le facteur d'actualisation **de** la période dans l'en-tête **jusqu'à** la période finale ; $e^{-r_f (K-k) h}$ où la période finale est $K$ et la période actuelle est $k$.\n",
    "- **Single-Period Discount Factor**: $e^{-r_f h}$\n",
    "- Les facteurs \"Up\" et \"Down\" sont $u$ et $d$."
   ]
  },
  {
   "cell_type": "code",
   "execution_count": 19,
   "metadata": {},
   "outputs": [
    {
     "name": "stdout",
     "output_type": "stream",
     "text": [
      "--------------------------------------------------------------------\n",
      "In Tree At Period 1:\n",
      "--------------------------------------------------------------------\n",
      "In State U1-D0\n",
      "Stock price = 106.031747\n",
      "Probability of State = 0.485570\n",
      "\"Up\" transition probability (p-star) = 0.485570\n",
      "Multi-Period Discount Factor = 0.996672\n",
      "Single-Period Discount Factor = 0.998335\n",
      "\"Up\" factor = 1.060317\n",
      "\"Down\" factor = 0.944687\n",
      "\n",
      "\n",
      "In State U0-D1\n",
      "Stock price = 94.468693\n",
      "Probability of State = 0.514430\n",
      "\"Up\" transition probability (p-star) = 0.485570\n",
      "Multi-Period Discount Factor = 0.996672\n",
      "Single-Period Discount Factor = 0.998335\n",
      "\"Up\" factor = 1.060317\n",
      "\"Down\" factor = 0.944687\n",
      "\n",
      "\n"
     ]
    }
   ],
   "source": [
    "stock_price_tree.print([1])"
   ]
  },
  {
   "cell_type": "markdown",
   "metadata": {},
   "source": [
    "### Exercice:\n",
    "\n",
    "Retournez à vos diapositives et utilisez les paramètres du prix des actions de la section précédente pour construire un arbre binomial forward à la main. Utilisez ensuite ce module pour vérifier vos résultats."
   ]
  },
  {
   "cell_type": "markdown",
   "metadata": {},
   "source": [
    "### Prix d'une option de vente européenne\n",
    "\n",
    "Vous pouvez utiliser le modèle pour évaluer une option de vente européenne. L'idée est d'abord de construire l'arbre qui décrit l'évolution du prix de l'action, puis de tarifier l'option *sur cet arbre*.\n",
    "\n",
    "Cela signifie que l'un des paramètres clés de l'option, le **temps à l'échéance**, dépend de l'arbre !\n",
    "\n",
    "Tarifions l'option avec les paramètres suivants :\n",
    "\n",
    "- Expiration dans six mois\n",
    "- Prix d'exercice de \\$95\n",
    "\n",
    "#### Définir l'arbre des prix de l'action\n",
    "\n",
    "Notre arbre binomial existant, `stock_price_tree`, décrit l'évolution du prix sur trois mois. Par conséquent, nous ne pouvons pas l'utiliser pour tarifier l'option, et nous devons créer un nouvel arbre.\n",
    "\n",
    "Nous allons nous en tenir à un arbre à trois périodes. Cela signifie que nous avons besoin de périodes de deux mois, c'est-à-dire $h = 2/12$ sur l'arbre."
   ]
  },
  {
   "cell_type": "code",
   "execution_count": 20,
   "metadata": {},
   "outputs": [],
   "source": [
    "stock_price = 100\n",
    "number_of_model_steps = 3 # three steps\n",
    "length_of_model_step = 2/12 # a month is 1/12 years\n",
    "risk_free_rate = 0.02\n",
    "dividend_yield = 0.01\n",
    "stock_volatility = 0.2 # annualized\n",
    "\n",
    "stock_price_tree = pbm.binomial_tree(stock_price, number_of_model_steps, length_of_model_step, risk_free_rate, dividend_yield, stock_volatility)"
   ]
  },
  {
   "cell_type": "markdown",
   "metadata": {},
   "source": [
    "#### Définir l'option\n",
    "\n",
    "Pour définir une option de vente européenne, nous allons utiliser la classe `european_put` du module `pbm`. Voici le résultat du `help(pbm.european_put)`.\n",
    "\n",
    "Un `european_put` est un `derivative`, donc si vous êtes intéressés, vous pouvez suivre en lisant `help(pbm.derivative)` et le code du module."
   ]
  },
  {
   "cell_type": "code",
   "execution_count": 21,
   "metadata": {},
   "outputs": [
    {
     "name": "stdout",
     "output_type": "stream",
     "text": [
      "Help on class european_put in module pedagogical_binomial_model:\n",
      "\n",
      "class european_put(derivative)\n",
      " |  european_put(strike_price)\n",
      " |  \n",
      " |  European put\n",
      " |  \n",
      " |  Method resolution order:\n",
      " |      european_put\n",
      " |      derivative\n",
      " |      builtins.object\n",
      " |  \n",
      " |  Methods defined here:\n",
      " |  \n",
      " |  __init__(self, strike_price)\n",
      " |      Define an European Put\n",
      " |      \n",
      " |      Parameters\n",
      " |      ----------\n",
      " |      strike_price : float\n",
      " |          strike price of the option\n",
      " |  \n",
      " |  ----------------------------------------------------------------------\n",
      " |  Methods inherited from derivative:\n",
      " |  \n",
      " |  print(self, step_indexes=None)\n",
      " |  \n",
      " |  set_tree(self, binomial_tree)\n",
      " |  \n",
      " |  ----------------------------------------------------------------------\n",
      " |  Data descriptors inherited from derivative:\n",
      " |  \n",
      " |  __dict__\n",
      " |      dictionary for instance variables (if defined)\n",
      " |  \n",
      " |  __weakref__\n",
      " |      list of weak references to the object (if defined)\n",
      "\n"
     ]
    }
   ],
   "source": [
    "help(pbm.european_put)"
   ]
  },
  {
   "cell_type": "markdown",
   "metadata": {},
   "source": [
    "La liste d'aide ci-dessus nous indique comment définir un `european_put` :\n",
    "```\n",
    "|  european_put(strike_price)\n",
    "...\n",
    "|  Methods defined here:\n",
    "|  \n",
    "|  __init__(self, strike_price)\n",
    "|      Define an European Put\n",
    "|      \n",
    "|      Parameters\n",
    "|      ----------\n",
    "|      strike_price : float\n",
    "|          strike price of the option\n",
    "```\n",
    "\n",
    "Il suffit de fixer un `strike_price` et d'écrire `mon_option = pbm.european_put(strike_price)`."
   ]
  },
  {
   "cell_type": "code",
   "execution_count": 22,
   "metadata": {},
   "outputs": [],
   "source": [
    "strike_price = 95\n",
    "my_euro_put = pbm.european_put(strike_price)"
   ]
  },
  {
   "cell_type": "markdown",
   "metadata": {},
   "source": [
    "#### Tarifier l'option\n",
    "\n",
    "Après avoir défini l'arbre des prix des actions et l'option, nous pouvons tarifier l'option.\n",
    "\n",
    "Pour ce faire, nous utilisons la méthode `pricing()` de l'arbre des prix des actions` sur l'option."
   ]
  },
  {
   "cell_type": "code",
   "execution_count": 23,
   "metadata": {},
   "outputs": [],
   "source": [
    "my_euro_put = stock_price_tree.pricing(my_euro_put)"
   ]
  },
  {
   "cell_type": "markdown",
   "metadata": {},
   "source": [
    "Apparemment, rien ne s'est passé.\n",
    "\n",
    "Cependant, `my_euro_put` contient maintenant un arbre binomial complet avec toutes les informations de prix incrémentales !\n",
    "\n",
    "La classe `derivative` et toutes les classes liées (c'est-à-dire les calls et les puts européens et américains dans `pbm`) ont une méthode `print` qui est identique à la méthode `print` pour l'arbre binomial que nous avons examiné ci-dessus.\n",
    "\n",
    "Pour connaître la valeur de l'option de vente au temps $0$, vous pouvez simplement taper `my_euro_put.print([0])` et voir dans le champ `\"Derivative\"` que l'option vaut $3.1966."
   ]
  },
  {
   "cell_type": "code",
   "execution_count": 24,
   "metadata": {},
   "outputs": [
    {
     "name": "stdout",
     "output_type": "stream",
     "text": [
      "--------------------------------------------------------------------\n",
      "In Tree At Period 0:\n",
      "--------------------------------------------------------------------\n",
      "In State 0\n",
      "Stock price = 100.000000\n",
      "Probability of State = 1.000000\n",
      "\"Up\" transition probability (p-star) = 0.479599\n",
      "Multi-Period Discount Factor = 0.990050\n",
      "Single-Period Discount Factor = 0.996672\n",
      "\"Up\" factor = 1.086886\n",
      "\"Down\" factor = 0.923132\n",
      "Derivative = 3.196583\n",
      "Repl. Delta = -0.300772\n",
      "Repl. Bond = 33.273770\n",
      "\n",
      "\n"
     ]
    }
   ],
   "source": [
    "my_euro_put.print([0])"
   ]
  },
  {
   "cell_type": "markdown",
   "metadata": {},
   "source": [
    "#### Exercice : Tarifier l'option en utilisant le flux monétaire terminal espéré\n",
    "\n",
    "Pour les produits dérivés européens, nous pouvons utiliser l'approche alternative à la tarification. Avec $K$ périodes de longueur $h$ années, le prix d'un dérivé $G(S_K)$ est :\n",
    "$$\n",
    "    P = e^{-r_f \\times h \\times K}E^{\\star}\\left[ G(S_K) \\right]\\, ,\n",
    "$$\n",
    "l'espérance risque-neutre du flux monétaire, actualisée au taux sans risque.\n",
    "\n",
    "Pour voir les probabilités des états terminaux ainsi que les prix des actions dans ces états, tapez `my_euro_put.print([3])`."
   ]
  },
  {
   "cell_type": "code",
   "execution_count": 25,
   "metadata": {},
   "outputs": [
    {
     "name": "stdout",
     "output_type": "stream",
     "text": [
      "--------------------------------------------------------------------\n",
      "In Tree At Period 3:\n",
      "--------------------------------------------------------------------\n",
      "In State U3-D0\n",
      "Stock price = 128.395990\n",
      "Probability of State = 0.110315\n",
      "\"Up\" transition probability (p-star) = 0.479599\n",
      "Multi-Period Discount Factor = 1.000000\n",
      "Single-Period Discount Factor = 0.996672\n",
      "\"Up\" factor = 1.086886\n",
      "\"Down\" factor = 0.923132\n",
      "Derivative = 0.000000\n",
      "\n",
      "\n",
      "In State U2-D1\n",
      "Stock price = 109.051456\n",
      "Probability of State = 0.359100\n",
      "\"Up\" transition probability (p-star) = 0.479599\n",
      "Multi-Period Discount Factor = 1.000000\n",
      "Single-Period Discount Factor = 0.996672\n",
      "\"Up\" factor = 1.086886\n",
      "\"Down\" factor = 0.923132\n",
      "Derivative = 0.000000\n",
      "\n",
      "\n",
      "In State U1-D2\n",
      "Stock price = 92.621429\n",
      "Probability of State = 0.389651\n",
      "\"Up\" transition probability (p-star) = 0.479599\n",
      "Multi-Period Discount Factor = 1.000000\n",
      "Single-Period Discount Factor = 0.996672\n",
      "\"Up\" factor = 1.086886\n",
      "\"Down\" factor = 0.923132\n",
      "Derivative = 2.378571\n",
      "\n",
      "\n",
      "In State U0-D3\n",
      "Stock price = 78.666800\n",
      "Probability of State = 0.140934\n",
      "\"Up\" transition probability (p-star) = 0.479599\n",
      "Multi-Period Discount Factor = 1.000000\n",
      "Single-Period Discount Factor = 0.996672\n",
      "\"Up\" factor = 1.086886\n",
      "\"Down\" factor = 0.923132\n",
      "Derivative = 16.333200\n",
      "\n",
      "\n"
     ]
    }
   ],
   "source": [
    "my_euro_put.print([3])"
   ]
  },
  {
   "cell_type": "markdown",
   "metadata": {},
   "source": [
    "Dans le champ `\"Derivative\"` vous pouvez voir les valeurs du payoff $G(S_K)$ qui ici est $\\max(95 - S_K, 0)$. Utilisez ensuite la `\"Probability of State\"` (Probabilité d'état) et le `\"Multi-Period Discount Factor\"` (Facteur d'actualisation multi-périodes) approprié de la période $0$ à la période $K$ pour calculer le prix du Put Européen avec un stylo et du papier."
   ]
  },
  {
   "cell_type": "markdown",
   "metadata": {},
   "source": [
    "#### Extra-scolaire (pour les nerds)\n",
    "\n",
    "Vous pouvez récupérer toutes les informations qui sont imprimées sur l'arbre pour les utiliser comme données dans votre cod. Les extraits de code suivants extraient les probabilités risque-neutres des états au dernier nœud de l'arbre, ainsi que les payoffs correspondants.\n",
    "\n",
    "Au final, l'attribut `.trunk` de l'arbre des prix de l'option est un `dictionnaire`."
   ]
  },
  {
   "cell_type": "code",
   "execution_count": 26,
   "metadata": {},
   "outputs": [
    {
     "data": {
      "text/plain": [
       "dict"
      ]
     },
     "execution_count": 26,
     "metadata": {},
     "output_type": "execute_result"
    }
   ],
   "source": [
    "type(my_euro_put.pricing_tree.trunk)"
   ]
  },
  {
   "cell_type": "code",
   "execution_count": 27,
   "metadata": {},
   "outputs": [
    {
     "name": "stdout",
     "output_type": "stream",
     "text": [
      "Voici les probabilités risque-neutres, converties en un array numpy.\n",
      "[0.110315   0.35910036 0.38965103 0.14093361]\n"
     ]
    }
   ],
   "source": [
    "import numpy as np\n",
    "rn_probs = [my_euro_put.pricing_tree.trunk[\"Period 3\"][state][\"Probability of State\"] for state in my_euro_put.pricing_tree.trunk[\"Period 3\"].keys()]\n",
    "rn_probs = np.array(rn_probs)\n",
    "\n",
    "print(\"Voici les probabilités risque-neutres, converties en un array numpy.\")\n",
    "print(rn_probs)"
   ]
  },
  {
   "cell_type": "code",
   "execution_count": 28,
   "metadata": {},
   "outputs": [
    {
     "name": "stdout",
     "output_type": "stream",
     "text": [
      "Voici les payoffs\n",
      "[ 0.          0.          2.37857115 16.33319997]\n"
     ]
    }
   ],
   "source": [
    "payoffs = [my_euro_put.pricing_tree.trunk[\"Period 3\"][state][\"Derivative\"] for state in my_euro_put.pricing_tree.trunk[\"Period 3\"].keys()]\n",
    "payoffs = np.array(payoffs)\n",
    "\n",
    "print(\"Voici les payoffs\")\n",
    "print(payoffs)"
   ]
  },
  {
   "cell_type": "markdown",
   "metadata": {},
   "source": [
    "Vous pouvez maintenant calculer l'espérance risque-neutre et l'actualiser à la période 0$ :"
   ]
  },
  {
   "cell_type": "code",
   "execution_count": 29,
   "metadata": {},
   "outputs": [
    {
     "name": "stdout",
     "output_type": "stream",
     "text": [
      "Le prix de l'option de vente est $3.1966.\n"
     ]
    }
   ],
   "source": [
    "put_price = np.sum(rn_probs * payoffs)\n",
    "put_price = my_euro_put.pricing_tree.trunk[\"Period 0\"][\"State 0\"][\"Multi-Period Discount Factor\"] * put_price\n",
    "\n",
    "print(\"Le prix de l'option de vente est ${0:1.4f}.\".format(put_price))"
   ]
  },
  {
   "cell_type": "markdown",
   "metadata": {},
   "source": [
    "### Prix d'une option de vente américaine et comparaison avec l'option européenne\n",
    "\n",
    "L'option américaine est plus *optionnelle* que l'option européenne, car elle peut être exercée à tout moment avant l'expiration. Si elle est plus optionnelle... alors sa valeur devrait être **supérieure** à celle de l'option européenne.\n",
    "\n",
    "La différence entre les prix des options américaines et européennes, par ailleurs identiques, s'appelle la **prime d'exercice anticipé** (*early exercise premium*).\n",
    "\n",
    "Nous pouvons utiliser notre modèle binomial pour évaluer la prime de l'option américaine.\n",
    "\n",
    "Une option de vente américaine peut être instanciée à partir de la classe `american_put`. Nous utiliserons le même arbre et le même prix d'exercice que précédemment."
   ]
  },
  {
   "cell_type": "code",
   "execution_count": 30,
   "metadata": {},
   "outputs": [],
   "source": [
    "my_amer_put = pbm.american_put(95)\n",
    "my_amer_put = stock_price_tree.pricing(my_amer_put)"
   ]
  },
  {
   "cell_type": "code",
   "execution_count": 31,
   "metadata": {},
   "outputs": [
    {
     "name": "stdout",
     "output_type": "stream",
     "text": [
      "--------------------------------------------------------------------\n",
      "In Tree At Period 0:\n",
      "--------------------------------------------------------------------\n",
      "In State 0\n",
      "Stock price = 100.000000\n",
      "Probability of State = 1.000000\n",
      "\"Up\" transition probability (p-star) = 0.479599\n",
      "Multi-Period Discount Factor = 0.990050\n",
      "Single-Period Discount Factor = 0.996672\n",
      "\"Up\" factor = 1.086886\n",
      "\"Down\" factor = 0.923132\n",
      "Derivative = 3.243454\n",
      "Exercise Derivative = False\n",
      "\n",
      "\n"
     ]
    }
   ],
   "source": [
    "my_amer_put.print([0])"
   ]
  },
  {
   "cell_type": "code",
   "execution_count": 32,
   "metadata": {},
   "outputs": [
    {
     "name": "stdout",
     "output_type": "stream",
     "text": [
      "--------------------------------------------------------------------\n",
      "In Tree At Period 0:\n",
      "--------------------------------------------------------------------\n",
      "In State 0\n",
      "Stock price = 100.000000\n",
      "Probability of State = 1.000000\n",
      "\"Up\" transition probability (p-star) = 0.479599\n",
      "Multi-Period Discount Factor = 0.990050\n",
      "Single-Period Discount Factor = 0.996672\n",
      "\"Up\" factor = 1.086886\n",
      "\"Down\" factor = 0.923132\n",
      "Derivative = 3.196583\n",
      "Repl. Delta = -0.300772\n",
      "Repl. Bond = 33.273770\n",
      "\n",
      "\n"
     ]
    }
   ],
   "source": [
    "my_euro_put.print([0])"
   ]
  },
  {
   "cell_type": "markdown",
   "metadata": {},
   "source": [
    "Le prix du put américain est de 3,2435 \\$ et le prix du put européen est de 3,1966 \\$.\n",
    "\n",
    "La **prime d'exercice anticipé** est égale à 0,0469 \\$ !"
   ]
  },
  {
   "cell_type": "markdown",
   "metadata": {},
   "source": [
    "## Autres exercices\n",
    "\n",
    "Jouez avec ce module. Utilisez-le pour répondre aux questions suivantes :\n",
    "\n",
    "### Exercice 1\n",
    "\n",
    "Quelle est la prime d'exercice anticipé pour les options d'achat si $\\delta = 0 $ ?\n",
    "\n",
    "### Exercice 2\n",
    "\n",
    "Quelle est la prime d'exercice anticipé pour les options de vente si $r = 0$ ?\n",
    "\n",
    "### Exercice 3\n",
    "\n",
    "Que se passe-t-il avec le prix d'une option européenne si la grille de temps du modèle binomial devient *plus dense* ?\n",
    "\n",
    "Nous entendons par là que nous pourrions garder l'horizon du modèle constant mais le décrire en un plus grand nombre d'étapes. Ci-dessus, nous avons utilisé trois étapes pour un horizon de six mois. Et si nous en utilisions six (c'est-à-dire des étapes mensuelles) ? Et si nous utilisions 180 (c'est-à-dire des étapes quotidiennes) ?\n",
    "\n",
    "D'abord, définissez un arbre où la `length_of_model_step = 1/365` et le `number_of_model_steps = 180`.\n",
    "\n",
    "Ensuite, écrivez une fonction qui évalue la formule d'évaluation des options de Black-Scholes et comparez les prix de la formule aux prix d'un modèle binomial avec de très nombreux pas (disons, 1 pas par jour).\n",
    "\n",
    "Tarifiez une option européenne (call ou put) avec les deux méthodes.\n",
    "\n",
    "### Exercice 4\n",
    "\n",
    "Les prix des options européennes de vente et d'achat **avec le même prix d'exercice et la même échéance** sont fortement liés les uns aux autres ! Cette relation est appelée la **parité put-call** (*put-call parity*). Elle peut être énoncée comme suit :\n",
    "$$\n",
    "    C - P = S e^{-\\delta T} - K \\times e^{-r_f T}\\, ,\n",
    "$$\n",
    "où $C$ et $P$ sont, respectivement, les prix des options d'achat et de vente, $S$ est le prix de l'action, $K$ est le prix d'exercice des deux options, $r_f$ est le taux sans risque, $\\delta$ est le rendement du dividende et $T$ est la maturité des deux options.\n",
    "\n",
    "Utilisez le modèle binomial pour :\n",
    "\n",
    "1. Démontrer que la relation de parité put-call existe bel et bien,\n",
    "2. Examiner comment l'écart par rapport à la relation dépend de $\\delta$ pour les options américaines.\n"
   ]
  },
  {
   "cell_type": "markdown",
   "metadata": {},
   "source": []
  }
 ],
 "metadata": {
  "interpreter": {
   "hash": "597d501f6549eea9b0cba469669ba08aefc1f3979820862bbf8ce3c821374c73"
  },
  "kernelspec": {
   "display_name": "Python 3.8.5 ('base')",
   "language": "python",
   "name": "python3"
  },
  "language_info": {
   "codemirror_mode": {
    "name": "ipython",
    "version": 3
   },
   "file_extension": ".py",
   "mimetype": "text/x-python",
   "name": "python",
   "nbconvert_exporter": "python",
   "pygments_lexer": "ipython3",
   "version": "3.8.5"
  },
  "orig_nbformat": 4
 },
 "nbformat": 4,
 "nbformat_minor": 2
}
